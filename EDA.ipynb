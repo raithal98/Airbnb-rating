{
 "cells": [
  {
   "cell_type": "code",
   "execution_count": 78,
   "metadata": {},
   "outputs": [
    {
     "data": {
      "text/html": [
       "<div>\n",
       "<style scoped>\n",
       "    .dataframe tbody tr th:only-of-type {\n",
       "        vertical-align: middle;\n",
       "    }\n",
       "\n",
       "    .dataframe tbody tr th {\n",
       "        vertical-align: top;\n",
       "    }\n",
       "\n",
       "    .dataframe thead th {\n",
       "        text-align: right;\n",
       "    }\n",
       "</style>\n",
       "<table border=\"1\" class=\"dataframe\">\n",
       "  <thead>\n",
       "    <tr style=\"text-align: right;\">\n",
       "      <th></th>\n",
       "      <th>City</th>\n",
       "      <th>Price</th>\n",
       "      <th>Day</th>\n",
       "      <th>Room Type</th>\n",
       "      <th>Shared Room</th>\n",
       "      <th>Private Room</th>\n",
       "      <th>Person Capacity</th>\n",
       "      <th>Superhost</th>\n",
       "      <th>Multiple Rooms</th>\n",
       "      <th>Business</th>\n",
       "      <th>Cleanliness Rating</th>\n",
       "      <th>Guest Satisfaction</th>\n",
       "      <th>Bedrooms</th>\n",
       "      <th>City Center (km)</th>\n",
       "      <th>Metro Distance (km)</th>\n",
       "      <th>Attraction Index</th>\n",
       "      <th>Normalised Attraction Index</th>\n",
       "      <th>Restraunt Index</th>\n",
       "      <th>Normalised Restraunt Index</th>\n",
       "    </tr>\n",
       "  </thead>\n",
       "  <tbody>\n",
       "    <tr>\n",
       "      <th>0</th>\n",
       "      <td>Amsterdam</td>\n",
       "      <td>194.033698</td>\n",
       "      <td>Weekday</td>\n",
       "      <td>Private room</td>\n",
       "      <td>False</td>\n",
       "      <td>True</td>\n",
       "      <td>2</td>\n",
       "      <td>False</td>\n",
       "      <td>1</td>\n",
       "      <td>0</td>\n",
       "      <td>10</td>\n",
       "      <td>93</td>\n",
       "      <td>1</td>\n",
       "      <td>5.022964</td>\n",
       "      <td>2.539380</td>\n",
       "      <td>78.690379</td>\n",
       "      <td>4.166708</td>\n",
       "      <td>98.253896</td>\n",
       "      <td>6.846473</td>\n",
       "    </tr>\n",
       "    <tr>\n",
       "      <th>1</th>\n",
       "      <td>Amsterdam</td>\n",
       "      <td>344.245776</td>\n",
       "      <td>Weekday</td>\n",
       "      <td>Private room</td>\n",
       "      <td>False</td>\n",
       "      <td>True</td>\n",
       "      <td>4</td>\n",
       "      <td>False</td>\n",
       "      <td>0</td>\n",
       "      <td>0</td>\n",
       "      <td>8</td>\n",
       "      <td>85</td>\n",
       "      <td>1</td>\n",
       "      <td>0.488389</td>\n",
       "      <td>0.239404</td>\n",
       "      <td>631.176378</td>\n",
       "      <td>33.421209</td>\n",
       "      <td>837.280757</td>\n",
       "      <td>58.342928</td>\n",
       "    </tr>\n",
       "    <tr>\n",
       "      <th>2</th>\n",
       "      <td>Amsterdam</td>\n",
       "      <td>264.101422</td>\n",
       "      <td>Weekday</td>\n",
       "      <td>Private room</td>\n",
       "      <td>False</td>\n",
       "      <td>True</td>\n",
       "      <td>2</td>\n",
       "      <td>False</td>\n",
       "      <td>0</td>\n",
       "      <td>1</td>\n",
       "      <td>9</td>\n",
       "      <td>87</td>\n",
       "      <td>1</td>\n",
       "      <td>5.748312</td>\n",
       "      <td>3.651621</td>\n",
       "      <td>75.275877</td>\n",
       "      <td>3.985908</td>\n",
       "      <td>95.386955</td>\n",
       "      <td>6.646700</td>\n",
       "    </tr>\n",
       "    <tr>\n",
       "      <th>3</th>\n",
       "      <td>Amsterdam</td>\n",
       "      <td>433.529398</td>\n",
       "      <td>Weekday</td>\n",
       "      <td>Private room</td>\n",
       "      <td>False</td>\n",
       "      <td>True</td>\n",
       "      <td>4</td>\n",
       "      <td>False</td>\n",
       "      <td>0</td>\n",
       "      <td>1</td>\n",
       "      <td>9</td>\n",
       "      <td>90</td>\n",
       "      <td>2</td>\n",
       "      <td>0.384862</td>\n",
       "      <td>0.439876</td>\n",
       "      <td>493.272534</td>\n",
       "      <td>26.119108</td>\n",
       "      <td>875.033098</td>\n",
       "      <td>60.973565</td>\n",
       "    </tr>\n",
       "    <tr>\n",
       "      <th>4</th>\n",
       "      <td>Amsterdam</td>\n",
       "      <td>485.552926</td>\n",
       "      <td>Weekday</td>\n",
       "      <td>Private room</td>\n",
       "      <td>False</td>\n",
       "      <td>True</td>\n",
       "      <td>2</td>\n",
       "      <td>True</td>\n",
       "      <td>0</td>\n",
       "      <td>0</td>\n",
       "      <td>10</td>\n",
       "      <td>98</td>\n",
       "      <td>1</td>\n",
       "      <td>0.544738</td>\n",
       "      <td>0.318693</td>\n",
       "      <td>552.830324</td>\n",
       "      <td>29.272733</td>\n",
       "      <td>815.305740</td>\n",
       "      <td>56.811677</td>\n",
       "    </tr>\n",
       "    <tr>\n",
       "      <th>5</th>\n",
       "      <td>Amsterdam</td>\n",
       "      <td>552.808567</td>\n",
       "      <td>Weekday</td>\n",
       "      <td>Private room</td>\n",
       "      <td>False</td>\n",
       "      <td>True</td>\n",
       "      <td>3</td>\n",
       "      <td>False</td>\n",
       "      <td>0</td>\n",
       "      <td>0</td>\n",
       "      <td>8</td>\n",
       "      <td>100</td>\n",
       "      <td>2</td>\n",
       "      <td>2.131420</td>\n",
       "      <td>1.904668</td>\n",
       "      <td>174.788957</td>\n",
       "      <td>9.255191</td>\n",
       "      <td>225.201662</td>\n",
       "      <td>15.692376</td>\n",
       "    </tr>\n",
       "    <tr>\n",
       "      <th>6</th>\n",
       "      <td>Amsterdam</td>\n",
       "      <td>215.124317</td>\n",
       "      <td>Weekday</td>\n",
       "      <td>Private room</td>\n",
       "      <td>False</td>\n",
       "      <td>True</td>\n",
       "      <td>2</td>\n",
       "      <td>False</td>\n",
       "      <td>0</td>\n",
       "      <td>0</td>\n",
       "      <td>10</td>\n",
       "      <td>94</td>\n",
       "      <td>1</td>\n",
       "      <td>1.881092</td>\n",
       "      <td>0.729747</td>\n",
       "      <td>200.167652</td>\n",
       "      <td>10.599010</td>\n",
       "      <td>242.765524</td>\n",
       "      <td>16.916251</td>\n",
       "    </tr>\n",
       "    <tr>\n",
       "      <th>7</th>\n",
       "      <td>Amsterdam</td>\n",
       "      <td>2771.307384</td>\n",
       "      <td>Weekday</td>\n",
       "      <td>Entire home/apt</td>\n",
       "      <td>False</td>\n",
       "      <td>False</td>\n",
       "      <td>4</td>\n",
       "      <td>True</td>\n",
       "      <td>0</td>\n",
       "      <td>0</td>\n",
       "      <td>10</td>\n",
       "      <td>100</td>\n",
       "      <td>3</td>\n",
       "      <td>1.686807</td>\n",
       "      <td>1.458404</td>\n",
       "      <td>208.808109</td>\n",
       "      <td>11.056528</td>\n",
       "      <td>272.313823</td>\n",
       "      <td>18.975219</td>\n",
       "    </tr>\n",
       "    <tr>\n",
       "      <th>8</th>\n",
       "      <td>Amsterdam</td>\n",
       "      <td>1001.804420</td>\n",
       "      <td>Weekday</td>\n",
       "      <td>Entire home/apt</td>\n",
       "      <td>False</td>\n",
       "      <td>False</td>\n",
       "      <td>4</td>\n",
       "      <td>False</td>\n",
       "      <td>0</td>\n",
       "      <td>0</td>\n",
       "      <td>9</td>\n",
       "      <td>96</td>\n",
       "      <td>2</td>\n",
       "      <td>3.719141</td>\n",
       "      <td>1.196112</td>\n",
       "      <td>106.226456</td>\n",
       "      <td>5.624761</td>\n",
       "      <td>133.876202</td>\n",
       "      <td>9.328686</td>\n",
       "    </tr>\n",
       "    <tr>\n",
       "      <th>9</th>\n",
       "      <td>Amsterdam</td>\n",
       "      <td>276.521454</td>\n",
       "      <td>Weekday</td>\n",
       "      <td>Private room</td>\n",
       "      <td>False</td>\n",
       "      <td>True</td>\n",
       "      <td>2</td>\n",
       "      <td>False</td>\n",
       "      <td>1</td>\n",
       "      <td>0</td>\n",
       "      <td>10</td>\n",
       "      <td>88</td>\n",
       "      <td>1</td>\n",
       "      <td>3.142361</td>\n",
       "      <td>0.924404</td>\n",
       "      <td>206.252861</td>\n",
       "      <td>10.921226</td>\n",
       "      <td>238.291258</td>\n",
       "      <td>16.604478</td>\n",
       "    </tr>\n",
       "  </tbody>\n",
       "</table>\n",
       "</div>"
      ],
      "text/plain": [
       "        City        Price      Day        Room Type  Shared Room  \\\n",
       "0  Amsterdam   194.033698  Weekday     Private room        False   \n",
       "1  Amsterdam   344.245776  Weekday     Private room        False   \n",
       "2  Amsterdam   264.101422  Weekday     Private room        False   \n",
       "3  Amsterdam   433.529398  Weekday     Private room        False   \n",
       "4  Amsterdam   485.552926  Weekday     Private room        False   \n",
       "5  Amsterdam   552.808567  Weekday     Private room        False   \n",
       "6  Amsterdam   215.124317  Weekday     Private room        False   \n",
       "7  Amsterdam  2771.307384  Weekday  Entire home/apt        False   \n",
       "8  Amsterdam  1001.804420  Weekday  Entire home/apt        False   \n",
       "9  Amsterdam   276.521454  Weekday     Private room        False   \n",
       "\n",
       "   Private Room  Person Capacity  Superhost  Multiple Rooms  Business  \\\n",
       "0          True                2      False               1         0   \n",
       "1          True                4      False               0         0   \n",
       "2          True                2      False               0         1   \n",
       "3          True                4      False               0         1   \n",
       "4          True                2       True               0         0   \n",
       "5          True                3      False               0         0   \n",
       "6          True                2      False               0         0   \n",
       "7         False                4       True               0         0   \n",
       "8         False                4      False               0         0   \n",
       "9          True                2      False               1         0   \n",
       "\n",
       "   Cleanliness Rating  Guest Satisfaction  Bedrooms  City Center (km)  \\\n",
       "0                  10                  93         1          5.022964   \n",
       "1                   8                  85         1          0.488389   \n",
       "2                   9                  87         1          5.748312   \n",
       "3                   9                  90         2          0.384862   \n",
       "4                  10                  98         1          0.544738   \n",
       "5                   8                 100         2          2.131420   \n",
       "6                  10                  94         1          1.881092   \n",
       "7                  10                 100         3          1.686807   \n",
       "8                   9                  96         2          3.719141   \n",
       "9                  10                  88         1          3.142361   \n",
       "\n",
       "   Metro Distance (km)  Attraction Index  Normalised Attraction Index  \\\n",
       "0             2.539380         78.690379                     4.166708   \n",
       "1             0.239404        631.176378                    33.421209   \n",
       "2             3.651621         75.275877                     3.985908   \n",
       "3             0.439876        493.272534                    26.119108   \n",
       "4             0.318693        552.830324                    29.272733   \n",
       "5             1.904668        174.788957                     9.255191   \n",
       "6             0.729747        200.167652                    10.599010   \n",
       "7             1.458404        208.808109                    11.056528   \n",
       "8             1.196112        106.226456                     5.624761   \n",
       "9             0.924404        206.252861                    10.921226   \n",
       "\n",
       "   Restraunt Index  Normalised Restraunt Index  \n",
       "0        98.253896                    6.846473  \n",
       "1       837.280757                   58.342928  \n",
       "2        95.386955                    6.646700  \n",
       "3       875.033098                   60.973565  \n",
       "4       815.305740                   56.811677  \n",
       "5       225.201662                   15.692376  \n",
       "6       242.765524                   16.916251  \n",
       "7       272.313823                   18.975219  \n",
       "8       133.876202                    9.328686  \n",
       "9       238.291258                   16.604478  "
      ]
     },
     "execution_count": 78,
     "metadata": {},
     "output_type": "execute_result"
    }
   ],
   "source": [
    "import pandas as pd\n",
    "import seaborn as sns\n",
    "import numpy as np\n",
    "import matplotlib.pyplot as plt\n",
    "import math\n",
    "from sklearn.linear_model import LogisticRegression\n",
    "from sklearn.linear_model import Ridge\n",
    "from sklearn.linear_model import Lasso\n",
    "from sklearn.linear_model import LinearRegression\n",
    "import statsmodels.api as sm\n",
    "from sklearn.model_selection import train_test_split\n",
    "from sklearn.metrics import mean_squared_error\n",
    "from sklearn.metrics import r2_score\n",
    "from sklearn.model_selection import cross_val_score\n",
    "from sklearn.linear_model import Ridge\n",
    "from sklearn.preprocessing import StandardScaler\n",
    "from sklearn.model_selection import GridSearchCV\n",
    "from sklearn.metrics import accuracy_score\n",
    "from sklearn.metrics import classification_report\n",
    "from sklearn.metrics import confusion_matrix\n",
    "\n",
    "df = pd.read_csv(\"Aemf1.csv\")\n",
    "df[:10]"
   ]
  },
  {
   "cell_type": "code",
   "execution_count": 41,
   "metadata": {},
   "outputs": [
    {
     "data": {
      "text/plain": [
       "Rome         9027\n",
       "Paris        6688\n",
       "Lisbon       5763\n",
       "Athens       5280\n",
       "Budapest     4022\n",
       "Vienna       3537\n",
       "Barcelona    2833\n",
       "Berlin       2484\n",
       "Amsterdam    2080\n",
       "Name: City, dtype: int64"
      ]
     },
     "execution_count": 41,
     "metadata": {},
     "output_type": "execute_result"
    }
   ],
   "source": [
    "df['City'].value_counts()"
   ]
  },
  {
   "cell_type": "code",
   "execution_count": 42,
   "metadata": {},
   "outputs": [
    {
     "data": {
      "image/png": "[encoded data removed]",
      "text/plain": [
       "<Figure size 640x480 with 1 Axes>"
      ]
     },
     "metadata": {},
     "output_type": "display_data"
    }
   ],
   "source": [
    "sns.boxplot(x = df['Day'],\n",
    "            y = df['Guest Satisfaction'])\n",
    "plt.xticks(rotation=45)\n",
    "plt.show()\n",
    "#amsterdam has the least number of entries but the highest median prices"
   ]
  },
  {
   "cell_type": "code",
   "execution_count": 43,
   "metadata": {},
   "outputs": [
    {
     "data": {
      "image/png": "[encoded data removed]",
      "text/plain": [
       "<Figure size 640x480 with 1 Axes>"
      ]
     },
     "metadata": {},
     "output_type": "display_data"
    }
   ],
   "source": [
    "sns.boxplot(x = df['City'],\n",
    "            y = np.log(df['Price']))\n",
    "plt.xticks(rotation=45)\n",
    "plt.show()"
   ]
  },
  {
   "cell_type": "code",
   "execution_count": 44,
   "metadata": {},
   "outputs": [
    {
     "data": {
      "text/plain": [
       "Text(0.5, 1.0, 'Guest Satisfaction vs cleanliness rating')"
      ]
     },
     "execution_count": 44,
     "metadata": {},
     "output_type": "execute_result"
    },
    {
     "data": {
      "image/png": "[encoded data removed]",
      "text/plain": [
       "<Figure size 640x480 with 1 Axes>"
      ]
     },
     "metadata": {},
     "output_type": "display_data"
    }
   ],
   "source": [
    "plt.scatter(df['Cleanliness Rating'], df['Guest Satisfaction'])\n",
    "plt.xlabel(\"Cleanliness Rating\")\n",
    "plt.ylabel(\"Guest Satisfaction\")\n",
    "plt.title(\"Guest Satisfaction vs cleanliness rating\")"
   ]
  },
  {
   "cell_type": "code",
   "execution_count": 58,
   "metadata": {},
   "outputs": [
    {
     "name": "stdout",
     "output_type": "stream",
     "text": [
      "        Price  Day  Person Capacity  Superhost  Multiple Rooms  Business  \\\n",
      "0  194.033698    1                2          0               1         0   \n",
      "\n",
      "   Cleanliness Rating  Bedrooms  City Center (km)  Metro Distance (km)  ...  \\\n",
      "0            0.627249         1          1.173545             2.740676  ...   \n",
      "\n",
      "   Amsterdam  Athens  Barcelona  Berlin  Budapest  Lisbon  Paris  Rome  \\\n",
      "0          1       0          0       0         0       0      0     0   \n",
      "\n",
      "   Private room  Shared room  \n",
      "0             1            0  \n",
      "\n",
      "[1 rows x 22 columns]\n",
      "Index(['Price', 'Day', 'Person Capacity', 'Superhost', 'Multiple Rooms',\n",
      "       'Business', 'Cleanliness Rating', 'Bedrooms', 'City Center (km)',\n",
      "       'Metro Distance (km)', 'Attraction Index', 'Restraunt Index',\n",
      "       'Amsterdam', 'Athens', 'Barcelona', 'Berlin', 'Budapest', 'Lisbon',\n",
      "       'Paris', 'Rome', 'Private room', 'Shared room'],\n",
      "      dtype='object')\n"
     ]
    }
   ],
   "source": [
    "X = df.drop(['Guest Satisfaction','Private Room', 'Shared Room','Normalised Attraction Index','Normalised Restraunt Index'], axis=1)\n",
    "X['Superhost']=X['Superhost'].astype(int)\n",
    "Y = df['Guest Satisfaction']\n",
    "\n",
    "one_hot_encoded = pd.get_dummies(X['City'])\n",
    "X = pd.concat([X, one_hot_encoded], axis=1)\n",
    "\n",
    "one_hot_encoded = pd.get_dummies(X['Room Type'])\n",
    "X = pd.concat([X, one_hot_encoded], axis=1)\n",
    "\n",
    "X['Day'] = X['Day'].map({'Weekday': 1, 'Weekend': 0})\n",
    "\n",
    "X = X.drop(['City','Room Type','Vienna','Entire home/apt'], axis=1)\n",
    "\n",
    "scaler = StandardScaler()\n",
    "X['Cleanliness Rating'] = scaler.fit_transform(X[['Cleanliness Rating']])\n",
    "X['City Center (km)'] = scaler.fit_transform(X[['City Center (km)']])\n",
    "X['Metro Distance (km)'] = scaler.fit_transform(X[['Metro Distance (km)']])\n",
    "X['Attraction Index'] = scaler.fit_transform(X[['Attraction Index']])\n",
    "X['Restraunt Index'] = scaler.fit_transform(X[['Restraunt Index']])\n",
    "\n",
    "print(X[:1])\n",
    "print(X.columns)"
   ]
  },
  {
   "cell_type": "code",
   "execution_count": 59,
   "metadata": {},
   "outputs": [
    {
     "name": "stdout",
     "output_type": "stream",
     "text": [
      "                            OLS Regression Results                            \n",
      "==============================================================================\n",
      "Dep. Variable:     Guest Satisfaction   R-squared:                       0.506\n",
      "Model:                            OLS   Adj. R-squared:                  0.505\n",
      "Method:                 Least Squares   F-statistic:                     1358.\n",
      "Date:                Sat, 05 Aug 2023   Prob (F-statistic):               0.00\n",
      "Time:                        15:37:43   Log-Likelihood:                -92320.\n",
      "No. Observations:               29199   AIC:                         1.847e+05\n",
      "Df Residuals:                   29176   BIC:                         1.849e+05\n",
      "Df Model:                          22                                         \n",
      "Covariance Type:            nonrobust                                         \n",
      "=======================================================================================\n",
      "                          coef    std err          t      P>|t|      [0.025      0.975]\n",
      "---------------------------------------------------------------------------------------\n",
      "const                  93.7775      0.175    535.793      0.000      93.434      94.121\n",
      "Price                   0.0005      0.000      3.360      0.001       0.000       0.001\n",
      "Day                    -0.0403      0.067     -0.601      0.548      -0.172       0.091\n",
      "Person Capacity        -0.0099      0.036     -0.272      0.786      -0.081       0.061\n",
      "Superhost               1.7085      0.079     21.552      0.000       1.553       1.864\n",
      "Multiple Rooms         -0.8040      0.086     -9.357      0.000      -0.972      -0.636\n",
      "Business               -2.1692      0.087    -24.998      0.000      -2.339      -1.999\n",
      "Cleanliness Rating      5.2534      0.035    149.451      0.000       5.185       5.322\n",
      "Bedrooms                0.2547      0.066      3.871      0.000       0.126       0.384\n",
      "City Center (km)        0.0680      0.050      1.366      0.172      -0.030       0.165\n",
      "Metro Distance (km)     0.0177      0.041      0.432      0.666      -0.063       0.098\n",
      "Attraction Index        0.1467      0.063      2.314      0.021       0.022       0.271\n",
      "Restraunt Index        -0.0589      0.076     -0.772      0.440      -0.208       0.091\n",
      "Amsterdam               0.0626      0.204      0.306      0.759      -0.338       0.463\n",
      "Athens                  0.0707      0.154      0.458      0.647      -0.232       0.373\n",
      "Barcelona              -1.4671      0.195     -7.524      0.000      -1.849      -1.085\n",
      "Berlin                  0.2772      0.188      1.471      0.141      -0.092       0.647\n",
      "Budapest                0.7117      0.161      4.427      0.000       0.397       1.027\n",
      "Lisbon                 -1.5264      0.154     -9.921      0.000      -1.828      -1.225\n",
      "Paris                  -0.6077      0.162     -3.745      0.000      -0.926      -0.290\n",
      "Rome                   -0.9841      0.171     -5.760      0.000      -1.319      -0.649\n",
      "Private room           -0.0635      0.093     -0.684      0.494      -0.246       0.119\n",
      "Shared room             0.7908      0.390      2.028      0.043       0.026       1.555\n",
      "==============================================================================\n",
      "Omnibus:                    16786.230   Durbin-Watson:                   2.010\n",
      "Prob(Omnibus):                  0.000   Jarque-Bera (JB):           389765.246\n",
      "Skew:                          -2.314   Prob(JB):                         0.00\n",
      "Kurtosis:                      20.290   Cond. No.                     4.42e+03\n",
      "==============================================================================\n",
      "\n",
      "Notes:\n",
      "[1] Standard Errors assume that the covariance matrix of the errors is correctly specified.\n",
      "[2] The condition number is large, 4.42e+03. This might indicate that there are\n",
      "strong multicollinearity or other numerical problems.\n",
      "100 20\n",
      "46.320666785056474 101.08164749834172\n",
      "Linear Regression's before dropping variables RMSE: 5.600904583096187\n"
     ]
    }
   ],
   "source": [
    "def linearRegression(X, Y):\n",
    "    X_train, X_test, Y_train, Y_test = train_test_split(X, Y, test_size=0.3, random_state=42)\n",
    "    linear_model = LinearRegression()\n",
    "    linear_model.fit(X_train, Y_train)\n",
    "    Y_pred = linear_model.predict(X_test)\n",
    "    \n",
    "    X_train = sm.add_constant(X_train)\n",
    "    model_sm = sm.OLS(Y_train, X_train).fit()\n",
    "    t_values=model_sm.tvalues\n",
    "    print(model_sm.summary())\n",
    "    return Y_pred, Y_test, t_values\n",
    "\n",
    "Y_pred, Y_test, t_values = linearRegression(X,Y)\n",
    "print(Y_test.max(),Y_test.min())\n",
    "print(np.min(Y_pred),np.max(Y_pred))\n",
    "rmse_lm = math.sqrt(mean_squared_error(Y_test, Y_pred))\n",
    "print(\"Linear Regression's before dropping variables RMSE:\", rmse_lm)"
   ]
  },
  {
   "cell_type": "code",
   "execution_count": 63,
   "metadata": {},
   "outputs": [
    {
     "name": "stdout",
     "output_type": "stream",
     "text": [
      "                            OLS Regression Results                            \n",
      "==============================================================================\n",
      "Dep. Variable:     Guest Satisfaction   R-squared:                       0.356\n",
      "Model:                            OLS   Adj. R-squared:                  0.355\n",
      "Method:                 Least Squares   F-statistic:                     836.5\n",
      "Date:                Sat, 05 Aug 2023   Prob (F-statistic):               0.00\n",
      "Time:                        15:38:16   Log-Likelihood:                -10850.\n",
      "No. Observations:               33371   AIC:                         2.175e+04\n",
      "Df Residuals:                   33348   BIC:                         2.194e+04\n",
      "Df Model:                          22                                         \n",
      "Covariance Type:            nonrobust                                         \n",
      "=======================================================================================\n",
      "                          coef    std err          t      P>|t|      [0.025      0.975]\n",
      "---------------------------------------------------------------------------------------\n",
      "const                   3.9100      0.010    406.888      0.000       3.891       3.929\n",
      "Price               -3.804e-05   7.99e-06     -4.762      0.000   -5.37e-05   -2.24e-05\n",
      "Day                     0.0013      0.004      0.352      0.725      -0.006       0.008\n",
      "Person Capacity         0.0051      0.002      2.549      0.011       0.001       0.009\n",
      "Superhost               0.0017      0.004      0.392      0.695      -0.007       0.010\n",
      "Multiple Rooms         -0.0208      0.005     -4.417      0.000      -0.030      -0.012\n",
      "Business               -0.0745      0.005    -15.657      0.000      -0.084      -0.065\n",
      "Cleanliness Rating      0.2426      0.002    125.793      0.000       0.239       0.246\n",
      "Bedrooms                0.0044      0.004      1.213      0.225      -0.003       0.012\n",
      "City Center (km)       -0.0027      0.003     -0.993      0.321      -0.008       0.003\n",
      "Metro Distance (km)     0.0035      0.002      1.542      0.123      -0.001       0.008\n",
      "Attraction Index        0.0091      0.004      2.586      0.010       0.002       0.016\n",
      "Restraunt Index         0.0031      0.004      0.727      0.467      -0.005       0.011\n",
      "Amsterdam               0.0383      0.011      3.419      0.001       0.016       0.060\n",
      "Athens                 -0.0328      0.008     -3.874      0.000      -0.049      -0.016\n",
      "Barcelona              -0.0284      0.011     -2.662      0.008      -0.049      -0.007\n",
      "Berlin                  0.0330      0.010      3.202      0.001       0.013       0.053\n",
      "Budapest                0.0374      0.009      4.232      0.000       0.020       0.055\n",
      "Lisbon                 -0.0455      0.008     -5.385      0.000      -0.062      -0.029\n",
      "Paris                  -0.0101      0.009     -1.135      0.256      -0.028       0.007\n",
      "Rome                   -0.0313      0.009     -3.341      0.001      -0.050      -0.013\n",
      "Private room           -0.0127      0.005     -2.504      0.012      -0.023      -0.003\n",
      "Shared room            -0.0087      0.021     -0.406      0.685      -0.051       0.033\n",
      "==============================================================================\n",
      "Omnibus:                    21177.087   Durbin-Watson:                   2.002\n",
      "Prob(Omnibus):                  0.000   Jarque-Bera (JB):           396274.773\n",
      "Skew:                          -2.753   Prob(JB):                         0.00\n",
      "Kurtosis:                      18.959   Cond. No.                     4.45e+03\n",
      "==============================================================================\n",
      "\n",
      "Notes:\n",
      "[1] Standard Errors assume that the covariance matrix of the errors is correctly specified.\n",
      "[2] The condition number is large, 4.45e+03. This might indicate that there are\n",
      "strong multicollinearity or other numerical problems.\n",
      "[1 2 3 4]\n",
      "Accuracy: 0.5140836629509768\n"
     ]
    }
   ],
   "source": [
    "def linearRegression(X, Y):\n",
    "    X_train, X_test, Y_train, Y_test = train_test_split(X, Y, test_size=0.2, random_state=42)\n",
    "    linear_model = LinearRegression()\n",
    "    linear_model.fit(X_train, Y_train)\n",
    "    Y_pred = linear_model.predict(X_test)\n",
    "    \n",
    "    X_train = sm.add_constant(X_train)\n",
    "    model_sm = sm.OLS(Y_train, X_train).fit()\n",
    "    t_values=model_sm.tvalues\n",
    "    print(model_sm.summary())\n",
    "    return Y_pred, Y_test, t_values\n",
    "\n",
    "Y_bin = pd.cut(Y,[19, 36, 52, 68, 84,101],labels=[0,1,2,3,4]).astype(int)\n",
    "Y_pred, Y_test, t_values = linearRegression(X,Y_bin)\n",
    "Y_pred_bin = pd.cut(Y_pred,[0,1,2,3,4,5],labels=[0,1,2,3,4]).astype(int)\n",
    "print(np.unique(Y_pred_bin))\n",
    "\n",
    "accuracy = accuracy_score(Y_test, Y_pred_bin)\n",
    "print(f\"Accuracy: {accuracy}\")"
   ]
  },
  {
   "cell_type": "code",
   "execution_count": 96,
   "metadata": {},
   "outputs": [
    {
     "name": "stdout",
     "output_type": "stream",
     "text": [
      "total elements 18\n",
      "very_low: 0.0\n",
      "total elements 18\n",
      "low: 16.666666666666664\n",
      "total elements 114\n",
      "medium: 30.701754385964914\n",
      "total elements 770\n",
      "high: 85.84415584415585\n",
      "total elements 7423\n",
      "very_high: 48.36319547352822\n"
     ]
    }
   ],
   "source": [
    "correct=Y_test==Y_pred_bin\n",
    "Y_test_n=Y_test.tolist()\n",
    "very_low=[]\n",
    "low=[]\n",
    "medium=[]\n",
    "high=[]\n",
    "very_high=[]\n",
    "def calculate_percent(data_array):\n",
    "    total_elements = len(data_array)\n",
    "    print(\"total elements\", total_elements)\n",
    "    correct_count = sum(1 for item in data_array if item == 'Correct')\n",
    "    percentage_correct = (correct_count / total_elements) * 100\n",
    "    return percentage_correct\n",
    "\n",
    "for i in range(len(Y_test)):\n",
    "    if(correct.iloc[i]==True):\n",
    "        if(Y_test_n[i]==0):\n",
    "           very_low.append(\"Correct\") \n",
    "        elif(Y_test_n[i]==1):\n",
    "           low.append(\"Correct\") \n",
    "        elif(Y_test_n[i]==2):\n",
    "            medium.append(\"Correct\")\n",
    "        elif(Y_test_n[i]==3):\n",
    "            high.append(\"Correct\")\n",
    "        elif(Y_test_n[i]==4):\n",
    "            very_high.append(\"Correct\")\n",
    "    else:\n",
    "        if(Y_test_n[i]==0):\n",
    "           very_low.append(\"Wrong\") \n",
    "        elif(Y_test_n[i]==1):\n",
    "           low.append(\"Wrong\") \n",
    "        elif(Y_test_n[i]==2):\n",
    "            medium.append(\"Wrong\")\n",
    "        elif(Y_test_n[i]==3):\n",
    "            high.append(\"Wrong\")\n",
    "        elif(Y_test_n[i]==4):\n",
    "            very_high.append(\"Wrong\")\n",
    "print(\"very_low:\", calculate_percent(very_low))\n",
    "print(\"low:\", calculate_percent(low))\n",
    "print(\"medium:\", calculate_percent(medium))\n",
    "print(\"high:\", calculate_percent(high))\n",
    "print(\"very_high:\", calculate_percent(very_high))\n"
   ]
  },
  {
   "cell_type": "code",
   "execution_count": 84,
   "metadata": {},
   "outputs": [
    {
     "name": "stdout",
     "output_type": "stream",
     "text": [
      "              precision    recall  f1-score   support\n",
      "\n",
      "           0       0.00      0.00      0.00        18\n",
      "           1       0.18      0.17      0.17        18\n",
      "           2       0.37      0.31      0.34       114\n",
      "           3       0.15      0.86      0.25       770\n",
      "           4       0.98      0.48      0.65      7423\n",
      "\n",
      "    accuracy                           0.51      8343\n",
      "   macro avg       0.33      0.36      0.28      8343\n",
      "weighted avg       0.89      0.51      0.60      8343\n",
      "\n",
      "                Extremely Low  Low  Medium  High  Extremely High\n",
      "Extremely Low               0    9       7     1               1\n",
      "Low                         0    3      13     2               0\n",
      "Medium                      0    5      35    64              10\n",
      "High                        0    0      36   661              73\n",
      "Extremely High              0    0       3  3830            3590\n"
     ]
    },
    {
     "name": "stderr",
     "output_type": "stream",
     "text": [
      "/Users/rachana/anaconda3/lib/python3.10/site-packages/sklearn/metrics/_classification.py:1344: UndefinedMetricWarning: Precision and F-score are ill-defined and being set to 0.0 in labels with no predicted samples. Use `zero_division` parameter to control this behavior.\n",
      "  _warn_prf(average, modifier, msg_start, len(result))\n",
      "/Users/rachana/anaconda3/lib/python3.10/site-packages/sklearn/metrics/_classification.py:1344: UndefinedMetricWarning: Precision and F-score are ill-defined and being set to 0.0 in labels with no predicted samples. Use `zero_division` parameter to control this behavior.\n",
      "  _warn_prf(average, modifier, msg_start, len(result))\n",
      "/Users/rachana/anaconda3/lib/python3.10/site-packages/sklearn/metrics/_classification.py:1344: UndefinedMetricWarning: Precision and F-score are ill-defined and being set to 0.0 in labels with no predicted samples. Use `zero_division` parameter to control this behavior.\n",
      "  _warn_prf(average, modifier, msg_start, len(result))\n"
     ]
    }
   ],
   "source": [
    "report = classification_report(Y_test, Y_pred_bin)\n",
    "print(report)\n",
    "class_labels = ['Extremely Low', 'Low', 'Medium', 'High', 'Extremely High']\n",
    "conf_matrix = confusion_matrix(Y_test, Y_pred_bin)\n",
    "print(pd.DataFrame(conf_matrix, index=class_labels, columns=class_labels))\n"
   ]
  },
  {
   "cell_type": "code",
   "execution_count": 49,
   "metadata": {},
   "outputs": [
    {
     "data": {
      "text/plain": [
       "Text(0, 0.5, 'Importance')"
      ]
     },
     "execution_count": 49,
     "metadata": {},
     "output_type": "execute_result"
    },
    {
     "data": {
      "image/png": "[encoded data removed]",
      "text/plain": [
       "<Figure size 640x480 with 1 Axes>"
      ]
     },
     "metadata": {},
     "output_type": "display_data"
    }
   ],
   "source": [
    "graph=t_values[1:].abs().sort_values(ascending=False)\n",
    "graph.plot(kind='bar')\n",
    "plt.title('Variable importance(Regression)')\n",
    "plt.xlabel('Variables')\n",
    "plt.ylabel('Importance')"
   ]
  },
  {
   "cell_type": "code",
   "execution_count": 95,
   "metadata": {},
   "outputs": [
    {
     "name": "stdout",
     "output_type": "stream",
     "text": [
      "precision     0.0\n",
      "recall        0.0\n",
      "f1-score      0.0\n",
      "support      18.0\n",
      "Name: 0, dtype: float64\n"
     ]
    },
    {
     "name": "stderr",
     "output_type": "stream",
     "text": [
      "/Users/rachana/anaconda3/lib/python3.10/site-packages/sklearn/metrics/_classification.py:1344: UndefinedMetricWarning: Precision and F-score are ill-defined and being set to 0.0 in labels with no predicted samples. Use `zero_division` parameter to control this behavior.\n",
      "  _warn_prf(average, modifier, msg_start, len(result))\n",
      "/Users/rachana/anaconda3/lib/python3.10/site-packages/sklearn/metrics/_classification.py:1344: UndefinedMetricWarning: Precision and F-score are ill-defined and being set to 0.0 in labels with no predicted samples. Use `zero_division` parameter to control this behavior.\n",
      "  _warn_prf(average, modifier, msg_start, len(result))\n",
      "/Users/rachana/anaconda3/lib/python3.10/site-packages/sklearn/metrics/_classification.py:1344: UndefinedMetricWarning: Precision and F-score are ill-defined and being set to 0.0 in labels with no predicted samples. Use `zero_division` parameter to control this behavior.\n",
      "  _warn_prf(average, modifier, msg_start, len(result))\n"
     ]
    },
    {
     "ename": "TypeError",
     "evalue": "'int' object is not subscriptable",
     "output_type": "error",
     "traceback": [
      "\u001b[0;31m---------------------------------------------------------------------------\u001b[0m",
      "\u001b[0;31mTypeError\u001b[0m                                 Traceback (most recent call last)",
      "Cell \u001b[0;32mIn[95], line 5\u001b[0m\n\u001b[1;32m      3\u001b[0m \u001b[39mprint\u001b[39m(report[\u001b[39m'\u001b[39m\u001b[39m0\u001b[39m\u001b[39m'\u001b[39m])\n\u001b[1;32m      4\u001b[0m new\u001b[39m=\u001b[39mpd\u001b[39m.\u001b[39mDataFrame()\n\u001b[0;32m----> 5\u001b[0m new[\u001b[39m'\u001b[39m\u001b[39mlow\u001b[39m\u001b[39m'\u001b[39m] \u001b[39m=\u001b[39m report[\u001b[39m'\u001b[39m\u001b[39m0\u001b[39m\u001b[39m'\u001b[39m]\u001b[39m*\u001b[39m\u001b[39msum\u001b[39;49m(Y_test\u001b[39m==\u001b[39;49m\u001b[39m0\u001b[39;49m)[\u001b[39m0\u001b[39;49m]\n\u001b[1;32m      6\u001b[0m report[\u001b[39m'\u001b[39m\u001b[39m1\u001b[39m\u001b[39m'\u001b[39m] \u001b[39m=\u001b[39m report[\u001b[39m'\u001b[39m\u001b[39m1\u001b[39m\u001b[39m'\u001b[39m]\u001b[39m*\u001b[39m\u001b[39msum\u001b[39m(Y_test\u001b[39m==\u001b[39m\u001b[39m1\u001b[39m)[\u001b[39m0\u001b[39m]\n\u001b[1;32m      7\u001b[0m report[\u001b[39m'\u001b[39m\u001b[39m2\u001b[39m\u001b[39m'\u001b[39m] \u001b[39m=\u001b[39m report[\u001b[39m'\u001b[39m\u001b[39m2\u001b[39m\u001b[39m'\u001b[39m]\u001b[39m*\u001b[39m\u001b[39msum\u001b[39m(Y_test\u001b[39m==\u001b[39m\u001b[39m2\u001b[39m)[\u001b[39m0\u001b[39m]\n",
      "\u001b[0;31mTypeError\u001b[0m: 'int' object is not subscriptable"
     ]
    }
   ],
   "source": [
    "report_prev = classification_report(Y_test,Y_pred_bin,output_dict=True)\n",
    "report = pd.DataFrame(report_prev)\n",
    "print(report['0'])\n",
    "new=pd.DataFrame()\n",
    "new['low'] = report['0']*sum(Y_test==0)[0]\n",
    "report['1'] = report['1']*sum(Y_test==1)[0]\n",
    "report['2'] = report['2']*sum(Y_test==2)[0]\n",
    "report['3'] = report['3']*sum(Y_test==3)[0]\n",
    "report['4'] = report['4']*sum(Y_test==4)[0]\n",
    "#print(report)\n",
    "resumen=[]\n",
    "'''\n",
    "resumen.loc[nresumen,'rec_mal'] = report.loc['recall'][['0.0', '1.0', '2.0']].sum()/sum(Y_test<=2)[0]\n",
    "resumen.loc[nresumen,'rec_bien'] = report.loc['recall'][['3.0', '4.0']].sum()/sum(Y_test>2)[0]\n",
    "resumen.loc[nresumen,'rec_tot'] = report.loc['recall'][['0.0', '1.0', '2.0','3.0', '4.0']].sum()/len(y_test)\n",
    "resumen.loc[nresumen,'acc_mal'] = report.loc['precision'][['0.0', '1.0', '2.0']].sum()/sum(y_test<=2)[0]\n",
    "resumen.loc[nresumen,'acc_bien'] = report.loc['precision'][['3.0', '4.0']].sum()/sum(y_test>2)[0]\n",
    "resumen.loc[nresumen,'acc_tot'] = report.loc['precision'][['0.0', '1.0', '2.0','3.0', '4.0']].sum()/len(y_test)\n",
    "resumen\n",
    "'''\n",
    "#report.loc['recall'][['0', '1.0', '2.0']].sum()/sum(Y_test<=2)[0]"
   ]
  },
  {
   "cell_type": "code",
   "execution_count": 50,
   "metadata": {},
   "outputs": [
    {
     "name": "stdout",
     "output_type": "stream",
     "text": [
      "Ridge Regression's R-squared: 0.5289488054510028 \n",
      "\n",
      "Best Lambda (alpha): 43.287612810830616\n",
      "Best MSE: 5.67345253763036\n"
     ]
    }
   ],
   "source": [
    "X_train, X_test, Y_train, Y_test = train_test_split(X, Y, test_size=0.2, random_state=42)\n",
    "param_grid = {'alpha': np.logspace(-4, 2, 100)}\n",
    "ridge = Ridge()\n",
    "grid_search = GridSearchCV(estimator=ridge, param_grid=param_grid, cv=5, scoring='neg_mean_squared_error')\n",
    "grid_search.fit(X_train, Y_train)\n",
    "\n",
    "best_lambda = grid_search.best_params_['alpha']\n",
    "best_model = grid_search.best_estimator_\n",
    "\n",
    "Y_pred = best_model.predict(X_test)\n",
    "mse = math.sqrt(mean_squared_error(Y_test, Y_pred))\n",
    "\n",
    "r_squared_rm = r2_score(Y_test, Y_pred)\n",
    "print(\"Ridge Regression's R-squared:\", r_squared_rm,\"\\n\")\n",
    "print(\"Best Lambda (alpha):\", best_lambda)\n",
    "print(\"Best MSE:\", mse)"
   ]
  },
  {
   "cell_type": "code",
   "execution_count": 51,
   "metadata": {},
   "outputs": [
    {
     "name": "stdout",
     "output_type": "stream",
     "text": [
      "Ridge Regression's R-squared: 0.5289987529423597 \n",
      "\n",
      "Best Lambda (alpha): 0.0001519911082952933\n",
      "Best MSE: 5.673151739928209\n"
     ]
    }
   ],
   "source": [
    "param_grid = {'alpha': np.logspace(-4, 2, 100)}\n",
    "lasso = Lasso()\n",
    "grid_search = GridSearchCV(estimator=lasso, param_grid=param_grid, cv=10, scoring='neg_mean_squared_error')\n",
    "grid_search.fit(X_train, Y_train)\n",
    "\n",
    "best_lambda = grid_search.best_params_['alpha']\n",
    "best_model = grid_search.best_estimator_\n",
    "\n",
    "Y_pred = best_model.predict(X_test)\n",
    "mse = math.sqrt(mean_squared_error(Y_test, Y_pred))\n",
    "\n",
    "r_squared_rm = r2_score(Y_test, Y_pred)\n",
    "print(\"Ridge Regression's R-squared:\", r_squared_rm,\"\\n\")\n",
    "print(\"Best Lambda (alpha):\", best_lambda)\n",
    "print(\"Best MSE:\", mse)"
   ]
  },
  {
   "cell_type": "code",
   "execution_count": 52,
   "metadata": {},
   "outputs": [
    {
     "name": "stdout",
     "output_type": "stream",
     "text": [
      "Root Mean Squared Error (RMSE): 5.682807582822854\n"
     ]
    }
   ],
   "source": [
    "lasso_model = Lasso(alpha=0.03)  \n",
    "lasso_model.fit(X_train, Y_train)\n",
    "Y_pred = lasso_model.predict(X_test)\n",
    "mse = math.sqrt(mean_squared_error(Y_test, Y_pred))\n",
    "print(\"Root Mean Squared Error (RMSE):\", mse)\n"
   ]
  },
  {
   "cell_type": "code",
   "execution_count": 53,
   "metadata": {},
   "outputs": [],
   "source": [
    "x_columns=['Price','Person Capacity','Cleanliness Rating','Bedrooms','City Center (km)','Metro Distance (km)','Attraction Index','Restraunt Index']\n",
    "X_interaction=X\n",
    "Y_interaction=Y"
   ]
  },
  {
   "cell_type": "code",
   "execution_count": 54,
   "metadata": {},
   "outputs": [],
   "source": [
    "for i in range(len(x_columns)):\n",
    "    X_interaction[x_columns[i]+'_p2'] = X[x_columns[i]]**2\n",
    "    X_interaction[x_columns[i]+'_p3'] = X[x_columns[i]]**3"
   ]
  },
  {
   "cell_type": "code",
   "execution_count": 55,
   "metadata": {},
   "outputs": [
    {
     "name": "stdout",
     "output_type": "stream",
     "text": [
      "                            OLS Regression Results                            \n",
      "==============================================================================\n",
      "Dep. Variable:     Guest Satisfaction   R-squared:                       0.531\n",
      "Model:                            OLS   Adj. R-squared:                  0.530\n",
      "Method:                 Least Squares   F-statistic:                     991.7\n",
      "Date:                Sat, 05 Aug 2023   Prob (F-statistic):               0.00\n",
      "Time:                        15:36:42   Log-Likelihood:            -1.0458e+05\n",
      "No. Observations:               33371   AIC:                         2.092e+05\n",
      "Df Residuals:                   33332   BIC:                         2.096e+05\n",
      "Df Model:                          38                                         \n",
      "Covariance Type:            nonrobust                                         \n",
      "==========================================================================================\n",
      "                             coef    std err          t      P>|t|      [0.025      0.975]\n",
      "------------------------------------------------------------------------------------------\n",
      "const                     97.9273      1.237     79.190      0.000      95.503     100.351\n",
      "Price                      0.0019      0.000      6.134      0.000       0.001       0.002\n",
      "Day                       -0.0364      0.061     -0.597      0.551      -0.156       0.083\n",
      "Person Capacity           -3.2882      1.098     -2.995      0.003      -5.440      -1.136\n",
      "Superhost                  2.0577      0.073     28.122      0.000       1.914       2.201\n",
      "Multiple Rooms            -0.9914      0.078    -12.649      0.000      -1.145      -0.838\n",
      "Business                  -2.3756      0.080    -29.863      0.000      -2.532      -2.220\n",
      "Cleanliness Rating         4.0559      0.053     75.850      0.000       3.951       4.161\n",
      "Bedrooms                   1.0459      0.165      6.344      0.000       0.723       1.369\n",
      "City Center (km)           0.3978      0.078      5.121      0.000       0.246       0.550\n",
      "Metro Distance (km)        0.1857      0.067      2.762      0.006       0.054       0.317\n",
      "Attraction Index           0.1178      0.126      0.936      0.349      -0.129       0.364\n",
      "Restraunt Index            0.3954      0.164      2.412      0.016       0.074       0.717\n",
      "Amsterdam                 -0.5682      0.204     -2.783      0.005      -0.968      -0.168\n",
      "Athens                     0.5414      0.145      3.739      0.000       0.258       0.825\n",
      "Barcelona                 -2.0238      0.211     -9.604      0.000      -2.437      -1.611\n",
      "Berlin                     0.1216      0.174      0.701      0.483      -0.219       0.462\n",
      "Budapest                   0.7560      0.155      4.873      0.000       0.452       1.060\n",
      "Lisbon                    -1.7401      0.160    -10.848      0.000      -2.054      -1.426\n",
      "Paris                     -1.4785      0.212     -6.980      0.000      -1.894      -1.063\n",
      "Rome                      -1.5773      0.220     -7.158      0.000      -2.009      -1.145\n",
      "Private room              -0.0420      0.088     -0.475      0.635      -0.215       0.131\n",
      "Shared room                0.8720      0.359      2.426      0.015       0.168       1.576\n",
      "Price_p2               -3.158e-07    8.4e-08     -3.761      0.000    -4.8e-07   -1.51e-07\n",
      "Price_p3                1.273e-11   4.24e-12      3.005      0.003    4.43e-12     2.1e-11\n",
      "Person Capacity_p2         0.8645      0.301      2.874      0.004       0.275       1.454\n",
      "Person Capacity_p3        -0.0710      0.025     -2.792      0.005      -0.121      -0.021\n",
      "Cleanliness Rating_p2     -0.3493      0.038     -9.134      0.000      -0.424      -0.274\n",
      "Cleanliness Rating_p3      0.0074      0.005      1.649      0.099      -0.001       0.016\n",
      "Bedrooms_p2               -0.3862      0.076     -5.057      0.000      -0.536      -0.237\n",
      "Bedrooms_p3                0.0316      0.007      4.257      0.000       0.017       0.046\n",
      "City Center (km)_p2       -0.1244      0.038     -3.268      0.001      -0.199      -0.050\n",
      "City Center (km)_p3        0.0098      0.005      1.991      0.046       0.000       0.019\n",
      "Metro Distance (km)_p2    -0.0287      0.021     -1.382      0.167      -0.069       0.012\n",
      "Metro Distance (km)_p3     0.0007      0.001      0.526      0.599      -0.002       0.003\n",
      "Attraction Index_p2        0.0075      0.033      0.228      0.820      -0.057       0.072\n",
      "Attraction Index_p3       -0.0003      0.002     -0.195      0.846      -0.004       0.003\n",
      "Restraunt Index_p2        -0.2424      0.058     -4.193      0.000      -0.356      -0.129\n",
      "Restraunt Index_p3         0.0202      0.006      3.385      0.001       0.009       0.032\n",
      "==============================================================================\n",
      "Omnibus:                    18485.560   Durbin-Watson:                   2.009\n",
      "Prob(Omnibus):                  0.000   Jarque-Bera (JB):           460184.718\n",
      "Skew:                          -2.172   Prob(JB):                         0.00\n",
      "Kurtosis:                      20.666   Cond. No.                     2.19e+12\n",
      "==============================================================================\n",
      "\n",
      "Notes:\n",
      "[1] Standard Errors assume that the covariance matrix of the errors is correctly specified.\n",
      "[2] The condition number is large, 2.19e+12. This might indicate that there are\n",
      "strong multicollinearity or other numerical problems.\n"
     ]
    },
    {
     "ename": "ValueError",
     "evalue": "too many values to unpack (expected 2)",
     "output_type": "error",
     "traceback": [
      "\u001b[0;31m---------------------------------------------------------------------------\u001b[0m",
      "\u001b[0;31mValueError\u001b[0m                                Traceback (most recent call last)",
      "Cell \u001b[0;32mIn[55], line 1\u001b[0m\n\u001b[0;32m----> 1\u001b[0m Y_pred, Y_test \u001b[39m=\u001b[39m linearRegression(X_interaction, Y_interaction)\n\u001b[1;32m      2\u001b[0m rmse_lm \u001b[39m=\u001b[39m math\u001b[39m.\u001b[39msqrt(mean_squared_error(Y_test, Y_pred))\n\u001b[1;32m      3\u001b[0m \u001b[39mprint\u001b[39m(\u001b[39m\"\u001b[39m\u001b[39mLinear Regression\u001b[39m\u001b[39m'\u001b[39m\u001b[39ms RMSE:\u001b[39m\u001b[39m\"\u001b[39m, rmse_lm)\n",
      "\u001b[0;31mValueError\u001b[0m: too many values to unpack (expected 2)"
     ]
    }
   ],
   "source": [
    "Y_pred, Y_test = linearRegression(X_interaction, Y_interaction)\n",
    "rmse_lm = math.sqrt(mean_squared_error(Y_test, Y_pred))\n",
    "print(\"Linear Regression's RMSE:\", rmse_lm)"
   ]
  },
  {
   "cell_type": "code",
   "execution_count": null,
   "metadata": {},
   "outputs": [
    {
     "name": "stdout",
     "output_type": "stream",
     "text": [
      "                            OLS Regression Results                            \n",
      "==============================================================================\n",
      "Dep. Variable:     Guest Satisfaction   R-squared:                       0.526\n",
      "Model:                            OLS   Adj. R-squared:                  0.526\n",
      "Method:                 Least Squares   F-statistic:                     1157.\n",
      "Date:                Fri, 04 Aug 2023   Prob (F-statistic):               0.00\n",
      "Time:                        17:23:04   Log-Likelihood:                -91705.\n",
      "No. Observations:               29199   AIC:                         1.835e+05\n",
      "Df Residuals:                   29170   BIC:                         1.837e+05\n",
      "Df Model:                          28                                         \n",
      "Covariance Type:            nonrobust                                         \n",
      "=========================================================================================\n",
      "                            coef    std err          t      P>|t|      [0.025      0.975]\n",
      "-----------------------------------------------------------------------------------------\n",
      "const                    97.8641      1.327     73.725      0.000      95.262     100.466\n",
      "Price                     0.0021      0.000      6.503      0.000       0.001       0.003\n",
      "Person Capacity          -3.4724      1.185     -2.929      0.003      -5.796      -1.149\n",
      "Superhost                 2.0847      0.079     26.555      0.000       1.931       2.239\n",
      "Multiple Rooms           -0.9291      0.083    -11.191      0.000      -1.092      -0.766\n",
      "Business                 -2.3430      0.084    -27.808      0.000      -2.508      -2.178\n",
      "Cleanliness Rating        4.0115      0.050     80.769      0.000       3.914       4.109\n",
      "Bedrooms                  1.2281      0.173      7.084      0.000       0.888       1.568\n",
      "City Center (km)          0.3461      0.074      4.677      0.000       0.201       0.491\n",
      "Metro Distance (km)       0.0746      0.042      1.794      0.073      -0.007       0.156\n",
      "Restraunt Index           0.4260      0.116      3.661      0.000       0.198       0.654\n",
      "Amsterdam                -0.5829      0.196     -2.977      0.003      -0.967      -0.199\n",
      "Athens                    0.4957      0.143      3.463      0.001       0.215       0.776\n",
      "Barcelona                -2.0489      0.200    -10.242      0.000      -2.441      -1.657\n",
      "Budapest                  0.6697      0.151      4.422      0.000       0.373       0.967\n",
      "Lisbon                   -1.8153      0.150    -12.137      0.000      -2.108      -1.522\n",
      "Paris                    -1.4849      0.196     -7.591      0.000      -1.868      -1.101\n",
      "Rome                     -1.5177      0.208     -7.302      0.000      -1.925      -1.110\n",
      "Shared room               0.9590      0.383      2.504      0.012       0.208       1.710\n",
      "Price_p2              -3.317e-07   9.17e-08     -3.619      0.000   -5.11e-07   -1.52e-07\n",
      "Price_p3               1.309e-11   4.52e-12      2.894      0.004    4.22e-12     2.2e-11\n",
      "Person Capacity_p2        0.9123      0.325      2.809      0.005       0.276       1.549\n",
      "Person Capacity_p3       -0.0744      0.027     -2.711      0.007      -0.128      -0.021\n",
      "Cleanliness Rating_p2    -0.4035      0.012    -34.499      0.000      -0.426      -0.381\n",
      "Bedrooms_p2              -0.4836      0.081     -5.974      0.000      -0.642      -0.325\n",
      "Bedrooms_p3               0.0400      0.008      5.125      0.000       0.025       0.055\n",
      "City Center (km)_p2      -0.0575      0.015     -3.757      0.000      -0.088      -0.028\n",
      "Restraunt Index_p2       -0.1898      0.051     -3.706      0.000      -0.290      -0.089\n",
      "Restraunt Index_p3        0.0145      0.006      2.545      0.011       0.003       0.026\n",
      "==============================================================================\n",
      "Omnibus:                    16101.389   Durbin-Watson:                   2.007\n",
      "Prob(Omnibus):                  0.000   Jarque-Bera (JB):           402779.302\n",
      "Skew:                          -2.156   Prob(JB):                         0.00\n",
      "Kurtosis:                      20.677   Cond. No.                     2.19e+12\n",
      "==============================================================================\n",
      "\n",
      "Notes:\n",
      "[1] Standard Errors assume that the covariance matrix of the errors is correctly specified.\n",
      "[2] The condition number is large, 2.19e+12. This might indicate that there are\n",
      "strong multicollinearity or other numerical problems.\n",
      "Linear Regression's RMSE: 5.48836495479609\n"
     ]
    }
   ],
   "source": [
    "X_interaction=X_interaction.drop(['Day','Attraction Index','Berlin','Private room','City Center (km)_p3',\\\n",
    "                                'Cleanliness Rating_p3','Metro Distance (km)_p2',\\\n",
    "                                'Metro Distance (km)_p3','Attraction Index_p2', 'Attraction Index_p3'], axis=1)\n",
    "Y_pred, Y_test = linearRegression(X_interaction, Y_interaction)\n",
    "rmse_lm = math.sqrt(mean_squared_error(Y_test, Y_pred))\n",
    "print(\"Linear Regression's RMSE:\", rmse_lm)"
   ]
  },
  {
   "cell_type": "code",
   "execution_count": null,
   "metadata": {},
   "outputs": [
    {
     "name": "stdout",
     "output_type": "stream",
     "text": [
      "Accuracy: 0.8921294446664003\n"
     ]
    }
   ],
   "source": [
    "#pd.cut(df['Guest Satisfaction'],[19, 36, 52, 68, 84,101],labels=['0.EX_LOW','1.LOW','2.MEDIUM','3.HIGH','4.EX_HIGH']).astype(str)\n",
    "Y_cat = pd.cut(df['Guest Satisfaction'],[19, 36, 52, 68, 84,101],labels=[0,1,2,3,4]).astype(int)\n",
    "X_train, X_test, Y_train, Y_test = train_test_split(X, Y_cat, test_size=0.2, random_state=42)\n",
    "model=LogisticRegression(multi_class='multinomial').fit(X_train,Y_train)\n",
    "Y_pred = model.predict(X_test)\n",
    "\n",
    "# Calculate accuracy\n",
    "accuracy = accuracy_score(Y_test, Y_pred)\n",
    "print(f\"Accuracy: {accuracy}\")"
   ]
  },
  {
   "cell_type": "code",
   "execution_count": null,
   "metadata": {},
   "outputs": [
    {
     "data": {
      "text/plain": [
       "array([4])"
      ]
     },
     "execution_count": 23,
     "metadata": {},
     "output_type": "execute_result"
    }
   ],
   "source": [
    "np.unique(Y_pred)"
   ]
  },
  {
   "cell_type": "code",
   "execution_count": 75,
   "metadata": {},
   "outputs": [
    {
     "name": "stdout",
     "output_type": "stream",
     "text": [
      "Accuracy: 0.903392065204363\n",
      "              precision    recall  f1-score   support\n",
      "\n",
      "           0       0.67      0.11      0.19        18\n",
      "           1       0.00      0.00      0.00        18\n",
      "           2       0.34      0.10      0.15       114\n",
      "           3       0.55      0.23      0.32       770\n",
      "           4       0.92      0.99      0.95      7423\n",
      "\n",
      "    accuracy                           0.90      8343\n",
      "   macro avg       0.50      0.28      0.32      8343\n",
      "weighted avg       0.88      0.90      0.88      8343\n",
      "\n"
     ]
    },
    {
     "name": "stderr",
     "output_type": "stream",
     "text": [
      "/Users/rachana/anaconda3/lib/python3.10/site-packages/sklearn/linear_model/_logistic.py:458: ConvergenceWarning: lbfgs failed to converge (status=1):\n",
      "STOP: TOTAL NO. of ITERATIONS REACHED LIMIT.\n",
      "\n",
      "Increase the number of iterations (max_iter) or scale the data as shown in:\n",
      "    https://scikit-learn.org/stable/modules/preprocessing.html\n",
      "Please also refer to the documentation for alternative solver options:\n",
      "    https://scikit-learn.org/stable/modules/linear_model.html#logistic-regression\n",
      "  n_iter_i = _check_optimize_result(\n",
      "/Users/rachana/anaconda3/lib/python3.10/site-packages/sklearn/metrics/_classification.py:1344: UndefinedMetricWarning: Precision and F-score are ill-defined and being set to 0.0 in labels with no predicted samples. Use `zero_division` parameter to control this behavior.\n",
      "  _warn_prf(average, modifier, msg_start, len(result))\n",
      "/Users/rachana/anaconda3/lib/python3.10/site-packages/sklearn/metrics/_classification.py:1344: UndefinedMetricWarning: Precision and F-score are ill-defined and being set to 0.0 in labels with no predicted samples. Use `zero_division` parameter to control this behavior.\n",
      "  _warn_prf(average, modifier, msg_start, len(result))\n",
      "/Users/rachana/anaconda3/lib/python3.10/site-packages/sklearn/metrics/_classification.py:1344: UndefinedMetricWarning: Precision and F-score are ill-defined and being set to 0.0 in labels with no predicted samples. Use `zero_division` parameter to control this behavior.\n",
      "  _warn_prf(average, modifier, msg_start, len(result))\n"
     ]
    }
   ],
   "source": [
    "Y_cat = pd.cut(df['Guest Satisfaction'],[19, 36, 52, 68, 84,101],labels=[0,1,2,3,4]).astype(int)\n",
    "X_train, X_test, Y_train, Y_test = train_test_split(X, Y_cat, test_size=0.2, random_state=42)\n",
    "model=LogisticRegression(multi_class='multinomial',penalty='l2').fit(X_train,Y_train)\n",
    "Y_pred = model.predict(X_test)\n",
    "\n",
    "# Calculate accuracy\n",
    "accuracy = accuracy_score(Y_test, Y_pred)\n",
    "report = classification_report(Y_test, Y_pred)\n",
    "print(f\"Accuracy: {accuracy}\")\n",
    "print(report)"
   ]
  },
  {
   "cell_type": "code",
   "execution_count": null,
   "metadata": {},
   "outputs": [
    {
     "data": {
      "text/plain": [
       "array([4])"
      ]
     },
     "execution_count": 27,
     "metadata": {},
     "output_type": "execute_result"
    }
   ],
   "source": [
    "np.unique(Y_pred)"
   ]
  },
  {
   "cell_type": "code",
   "execution_count": null,
   "metadata": {},
   "outputs": [],
   "source": []
  }
 ],
 "metadata": {
  "kernelspec": {
   "display_name": "base",
   "language": "python",
   "name": "python3"
  },
  "language_info": {
   "codemirror_mode": {
    "name": "ipython",
    "version": 3
   },
   "file_extension": ".py",
   "mimetype": "text/x-python",
   "name": "python",
   "nbconvert_exporter": "python",
   "pygments_lexer": "ipython3",
   "version": "3.10.9"
  },
  "orig_nbformat": 4
 },
 "nbformat": 4,
 "nbformat_minor": 2
}
